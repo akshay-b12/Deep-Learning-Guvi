{
  "nbformat": 4,
  "nbformat_minor": 0,
  "metadata": {
    "colab": {
      "name": "Untitled1.ipynb",
      "provenance": [],
      "authorship_tag": "ABX9TyOPjgBIlztB8jTYH6N7WsJd",
      "include_colab_link": true
    },
    "kernelspec": {
      "name": "python3",
      "display_name": "Python 3"
    },
    "language_info": {
      "name": "python"
    }
  },
  "cells": [
    {
      "cell_type": "markdown",
      "metadata": {
        "id": "view-in-github",
        "colab_type": "text"
      },
      "source": [
        "<a href=\"https://colab.research.google.com/github/akshay-b12/Deep-Learning-Guvi/blob/main/vectors_In_Python.ipynb\" target=\"_parent\"><img src=\"https://colab.research.google.com/assets/colab-badge.svg\" alt=\"Open In Colab\"/></a>"
      ]
    },
    {
      "cell_type": "code",
      "metadata": {
        "id": "-eGUwSH6Yq3p"
      },
      "source": [
        "import numpy as np\n",
        "import matplotlib.pyplot as plt"
      ],
      "execution_count": 1,
      "outputs": []
    },
    {
      "cell_type": "markdown",
      "metadata": {
        "id": "1Xz2gXVsvvLj"
      },
      "source": [
        "#Vector Plotting"
      ]
    },
    {
      "cell_type": "code",
      "metadata": {
        "id": "lcJUM9JMh35J",
        "colab": {
          "base_uri": "https://localhost:8080/",
          "height": 269
        },
        "outputId": "569c42c2-e327-4ae9-d39e-6592b01465b0"
      },
      "source": [
        "plt.quiver(0,0,3,4, scale_units='xy', angles='xy', scale=1, color='r')\n",
        "plt.xlim(-10,10)\n",
        "plt.ylim(-10,10)\n",
        "plt.show()"
      ],
      "execution_count": 5,
      "outputs": [
        {
          "output_type": "display_data",
          "data": {
            "image/png": "[encoded data removed]",
            "text/plain": [
              "<Figure size 432x288 with 1 Axes>"
            ]
          },
          "metadata": {
            "tags": [],
            "needs_background": "light"
          }
        }
      ]
    },
    {
      "cell_type": "code",
      "metadata": {
        "id": "a9d-eu0mkvKK"
      },
      "source": [
        "def plot_vectors(vec):\n",
        "  colors = ['r','b','g','y']\n",
        "  for i, coord in enumerate(vec):\n",
        "    plt.quiver(coord[0], coord[1],coord[2], coord[3], scale_units='xy', angles='xy', scale=1, color=colors[i%len(colors)])\n",
        "  plt.xlim(-10,10)\n",
        "  plt.ylim(-10,10)\n",
        "  plt.show()"
      ],
      "execution_count": 7,
      "outputs": []
    },
    {
      "cell_type": "code",
      "metadata": {
        "id": "x6bDUE8QsFDf",
        "outputId": "a7f1209e-9535-4335-8755-572019fc69b3",
        "colab": {
          "base_uri": "https://localhost:8080/",
          "height": 269
        }
      },
      "source": [
        "plot_vectors([(0,0,3,4), (0,0,-3,4), (0,0,-2,-3), (0,0,4,-1)])"
      ],
      "execution_count": 9,
      "outputs": [
        {
          "output_type": "display_data",
          "data": {
            "image/png": "[encoded data removed]",
            "text/plain": [
              "<Figure size 432x288 with 1 Axes>"
            ]
          },
          "metadata": {
            "tags": [],
            "needs_background": "light"
          }
        }
      ]
    },
    {
      "cell_type": "code",
      "metadata": {
        "id": "n9DPgdzeso5P"
      },
      "source": [
        "vecs = [np.asarray([0,0,3,4]), np.asarray([0,0,-3,4]), np.asarray([0,0,-2,-3]), np.asarray([0,0,4,-1])]"
      ],
      "execution_count": 14,
      "outputs": []
    },
    {
      "cell_type": "code",
      "metadata": {
        "id": "E2vv_Otmtc21",
        "outputId": "d7dadd1f-b9db-4d0b-be3e-bb0f06698b66",
        "colab": {
          "base_uri": "https://localhost:8080/",
          "height": 269
        }
      },
      "source": [
        "plot_vectors([vecs[0], vecs[3]])"
      ],
      "execution_count": 15,
      "outputs": [
        {
          "output_type": "display_data",
          "data": {
            "image/png": "[encoded data removed]",
            "text/plain": [
              "<Figure size 432x288 with 1 Axes>"
            ]
          },
          "metadata": {
            "tags": [],
            "needs_background": "light"
          }
        }
      ]
    },
    {
      "cell_type": "markdown",
      "metadata": {
        "id": "eDwTwZurv1wR"
      },
      "source": [
        "#Vector Addition and subtraction"
      ]
    },
    {
      "cell_type": "code",
      "metadata": {
        "id": "qbOiUbsyti4C",
        "outputId": "eaabc503-1f21-4257-a33c-2ae5f2e76056",
        "colab": {
          "base_uri": "https://localhost:8080/"
        }
      },
      "source": [
        "vecs[0]+vecs[3]"
      ],
      "execution_count": 16,
      "outputs": [
        {
          "output_type": "execute_result",
          "data": {
            "text/plain": [
              "array([0, 0, 7, 3])"
            ]
          },
          "metadata": {
            "tags": []
          },
          "execution_count": 16
        }
      ]
    },
    {
      "cell_type": "code",
      "metadata": {
        "id": "0kKnUK85uRQN",
        "outputId": "3b160b93-a2ee-47be-ca64-144e7670d45e",
        "colab": {
          "base_uri": "https://localhost:8080/",
          "height": 269
        }
      },
      "source": [
        "plot_vectors([vecs[0], vecs[3], vecs[0]+vecs[3]])"
      ],
      "execution_count": 17,
      "outputs": [
        {
          "output_type": "display_data",
          "data": {
            "image/png": "[encoded data removed]",
            "text/plain": [
              "<Figure size 432x288 with 1 Axes>"
            ]
          },
          "metadata": {
            "tags": [],
            "needs_background": "light"
          }
        }
      ]
    },
    {
      "cell_type": "code",
      "metadata": {
        "id": "r1m4B4rIuh2t",
        "outputId": "30351737-e719-4a3c-cedd-2e3278b28463",
        "colab": {
          "base_uri": "https://localhost:8080/",
          "height": 269
        }
      },
      "source": [
        "plot_vectors([vecs[0], vecs[3], vecs[0]-vecs[3]])"
      ],
      "execution_count": 18,
      "outputs": [
        {
          "output_type": "display_data",
          "data": {
            "image/png": "[encoded data removed]",
            "text/plain": [
              "<Figure size 432x288 with 1 Axes>"
            ]
          },
          "metadata": {
            "tags": [],
            "needs_background": "light"
          }
        }
      ]
    },
    {
      "cell_type": "code",
      "metadata": {
        "id": "Jgl3p1clvErb",
        "outputId": "d0570dc3-e124-4c7c-f581-fdcf9e1565c4",
        "colab": {
          "base_uri": "https://localhost:8080/",
          "height": 269
        }
      },
      "source": [
        "plot_vectors([vecs[0], -vecs[3], vecs[0]+(-vecs[3])])"
      ],
      "execution_count": 19,
      "outputs": [
        {
          "output_type": "display_data",
          "data": {
            "image/png": "[encoded data removed]",
            "text/plain": [
              "<Figure size 432x288 with 1 Axes>"
            ]
          },
          "metadata": {
            "tags": [],
            "needs_background": "light"
          }
        }
      ]
    },
    {
      "cell_type": "markdown",
      "metadata": {
        "id": "rBJqTnUBwFc4"
      },
      "source": [
        "#Vector dot product"
      ]
    },
    {
      "cell_type": "code",
      "metadata": {
        "id": "IKymrwktvPL3",
        "outputId": "e2cfeb6c-414b-45ed-e840-0974234087ba",
        "colab": {
          "base_uri": "https://localhost:8080/",
          "height": 269
        }
      },
      "source": [
        "vecs = [np.asarray([0,0,3,4]), np.asarray([0,0,-3,4]), np.asarray([0,0,-2,-3]), np.asarray([0,0,4,-1])]\n",
        "plot_vectors(vecs)"
      ],
      "execution_count": 21,
      "outputs": [
        {
          "output_type": "display_data",
          "data": {
            "image/png": "[encoded data removed]",
            "text/plain": [
              "<Figure size 432x288 with 1 Axes>"
            ]
          },
          "metadata": {
            "tags": [],
            "needs_background": "light"
          }
        }
      ]
    },
    {
      "cell_type": "code",
      "metadata": {
        "id": "a_3-9581wR6Y"
      },
      "source": [
        "a = np.asarray([3,4])\n",
        "b = np.asarray([4,-1])"
      ],
      "execution_count": 22,
      "outputs": []
    },
    {
      "cell_type": "markdown",
      "metadata": {
        "id": "Qp_kL-vHwgpS"
      },
      "source": [
        "$\\vec{a}\\cdot\\vec{b} = |\\vec{a}| |\\vec{b}| \\cos(\\theta) = a_x b_x + a_y b_y$"
      ]
    },
    {
      "cell_type": "code",
      "metadata": {
        "id": "aszi5NRBxXIn",
        "outputId": "5c780ee5-02e6-4fba-df3e-7a05bb0fb3d9",
        "colab": {
          "base_uri": "https://localhost:8080/"
        }
      },
      "source": [
        "a_dot_b = np.dot(a,b)\n",
        "print(a_dot_b)"
      ],
      "execution_count": 25,
      "outputs": [
        {
          "output_type": "stream",
          "text": [
            "8\n"
          ],
          "name": "stdout"
        }
      ]
    },
    {
      "cell_type": "markdown",
      "metadata": {
        "id": "l75XsFPBxrIT"
      },
      "source": [
        "- Projection of vector $\\vec{a}$ on $\\vec{b}$:\n",
        "\n",
        "$a_b = |\\vec{a}| \\cos(\\theta) = |\\vec{a}| \\frac{\\vec{a} \\cdot \\vec{b}}{|\\vec{a}||\\vec{b}|} = \\frac{\\vec{a} \\cdot \\vec{b}}{|\\vec{b}|}$"
      ]
    },
    {
      "cell_type": "code",
      "metadata": {
        "id": "VpYHr83lxe-2",
        "outputId": "b0906e08-9fed-4eda-f1cf-7204c777d31f",
        "colab": {
          "base_uri": "https://localhost:8080/"
        }
      },
      "source": [
        "a_b = np.dot(a,b)/np.linalg.norm(b)\n",
        "print(a_b)"
      ],
      "execution_count": 27,
      "outputs": [
        {
          "output_type": "stream",
          "text": [
            "1.9402850002906638\n"
          ],
          "name": "stdout"
        }
      ]
    },
    {
      "cell_type": "markdown",
      "metadata": {
        "id": "qdQWqiguzljg"
      },
      "source": [
        "$\\vec{a_b} = a_b \\hat{b} = a_b \\frac{\\vec{b}}{|\\vec{b}|}$"
      ]
    },
    {
      "cell_type": "code",
      "metadata": {
        "id": "UFA_ziomzg-u",
        "outputId": "6b72738b-92e3-476e-d3ef-0e9395ae7d46",
        "colab": {
          "base_uri": "https://localhost:8080/"
        }
      },
      "source": [
        "vec_a_b = (a_b/np.linalg.norm(b))*b\n",
        "print(vec_a_b)"
      ],
      "execution_count": 29,
      "outputs": [
        {
          "output_type": "stream",
          "text": [
            "[ 1.88235294 -0.47058824]\n"
          ],
          "name": "stdout"
        }
      ]
    },
    {
      "cell_type": "code",
      "metadata": {
        "id": "h_3Gu69F0SD4",
        "outputId": "1cdff785-6798-49f8-a881-9f8ce35582af",
        "colab": {
          "base_uri": "https://localhost:8080/",
          "height": 269
        }
      },
      "source": [
        "plot_vectors([np.asarray([0,0,3,4]), np.asarray([0,0,4,-1]), np.asarray([0,0,1.88235294, -0.47058824])])"
      ],
      "execution_count": 30,
      "outputs": [
        {
          "output_type": "display_data",
          "data": {
            "image/png": "[encoded data removed]",
            "text/plain": [
              "<Figure size 432x288 with 1 Axes>"
            ]
          },
          "metadata": {
            "tags": [],
            "needs_background": "light"
          }
        }
      ]
    },
    {
      "cell_type": "code",
      "metadata": {
        "id": "vIdKpMsU03en"
      },
      "source": [
        ""
      ],
      "execution_count": null,
      "outputs": []
    }
  ]
}